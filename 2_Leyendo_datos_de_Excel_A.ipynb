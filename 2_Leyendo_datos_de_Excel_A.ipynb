{
 "cells": [
  {
   "cell_type": "code",
   "execution_count": 1,
   "id": "e30c0502",
   "metadata": {},
   "outputs": [
    {
     "name": "stdout",
     "output_type": "stream",
     "text": [
      "Datos:\n",
      "   xi\n",
      "0  30\n",
      "1  35\n",
      "2  33\n",
      "3  34\n",
      "4  36\n"
     ]
    }
   ],
   "source": [
    "import numpy as np    # Carga librería de cálculos numéricos y de funciones matemáticas\n",
    "import pandas as pd   # Importamos la biblioteca pandas\n",
    "import matplotlib.pyplot as plt   # Librería para gráficas\n",
    "\n",
    "# Leer un archivo de Excel y guardar el dataframe en df\n",
    "df = pd.read_excel(\"Datos_A.xlsx\", sheet_name='Hoja1')\n",
    "\n",
    "print('Datos:')\n",
    "print(df)  # Imprimir o mostrar la tabla o matriz de datos\n"
   ]
  },
  {
   "cell_type": "markdown",
   "id": "18f1126f",
   "metadata": {},
   "source": [
    "#### Calcular el promedio y la desviacion estandar de los datos"
   ]
  },
  {
   "cell_type": "code",
   "execution_count": 2,
   "id": "0e308b63",
   "metadata": {},
   "outputs": [
    {
     "name": "stdout",
     "output_type": "stream",
     "text": [
      "promedio =  33.6\n"
     ]
    }
   ],
   "source": [
    "media=df['xi'].mean()\n",
    "print('promedio = ',media)"
   ]
  },
  {
   "cell_type": "markdown",
   "id": "cf60fb7f",
   "metadata": {},
   "source": [
    "#### Desviacion estandar muestral\n"
   ]
  },
  {
   "cell_type": "code",
   "execution_count": 3,
   "id": "7c0decca",
   "metadata": {},
   "outputs": [
    {
     "name": "stdout",
     "output_type": "stream",
     "text": [
      "Desviación estándar muestral = 2.3021728866442674\n"
     ]
    }
   ],
   "source": [
    "desv_estandar_muestral = df['xi'].std(ddof=1)  # poblacional ddof =0, muestral: ddof =1 (defecto)\n",
    "print('Desviación estándar muestral =', desv_estandar_muestral)\n"
   ]
  },
  {
   "cell_type": "code",
   "execution_count": 4,
   "id": "8a3f75f2",
   "metadata": {},
   "outputs": [
    {
     "data": {
      "text/html": [
       "<div>\n",
       "<style scoped>\n",
       "    .dataframe tbody tr th:only-of-type {\n",
       "        vertical-align: middle;\n",
       "    }\n",
       "\n",
       "    .dataframe tbody tr th {\n",
       "        vertical-align: top;\n",
       "    }\n",
       "\n",
       "    .dataframe thead th {\n",
       "        text-align: right;\n",
       "    }\n",
       "</style>\n",
       "<table border=\"1\" class=\"dataframe\">\n",
       "  <thead>\n",
       "    <tr style=\"text-align: right;\">\n",
       "      <th></th>\n",
       "      <th>xi</th>\n",
       "    </tr>\n",
       "  </thead>\n",
       "  <tbody>\n",
       "    <tr>\n",
       "      <th>count</th>\n",
       "      <td>5.000000</td>\n",
       "    </tr>\n",
       "    <tr>\n",
       "      <th>mean</th>\n",
       "      <td>33.600000</td>\n",
       "    </tr>\n",
       "    <tr>\n",
       "      <th>std</th>\n",
       "      <td>2.302173</td>\n",
       "    </tr>\n",
       "    <tr>\n",
       "      <th>min</th>\n",
       "      <td>30.000000</td>\n",
       "    </tr>\n",
       "    <tr>\n",
       "      <th>25%</th>\n",
       "      <td>33.000000</td>\n",
       "    </tr>\n",
       "    <tr>\n",
       "      <th>50%</th>\n",
       "      <td>34.000000</td>\n",
       "    </tr>\n",
       "    <tr>\n",
       "      <th>75%</th>\n",
       "      <td>35.000000</td>\n",
       "    </tr>\n",
       "    <tr>\n",
       "      <th>max</th>\n",
       "      <td>36.000000</td>\n",
       "    </tr>\n",
       "  </tbody>\n",
       "</table>\n",
       "</div>"
      ],
      "text/plain": [
       "              xi\n",
       "count   5.000000\n",
       "mean   33.600000\n",
       "std     2.302173\n",
       "min    30.000000\n",
       "25%    33.000000\n",
       "50%    34.000000\n",
       "75%    35.000000\n",
       "max    36.000000"
      ]
     },
     "execution_count": 4,
     "metadata": {},
     "output_type": "execute_result"
    }
   ],
   "source": [
    "# Principales indicadores ( similar a Excel)\n",
    "df.describe()\n"
   ]
  },
  {
   "cell_type": "code",
   "execution_count": null,
   "id": "662337d1",
   "metadata": {},
   "outputs": [],
   "source": []
  }
 ],
 "metadata": {
  "kernelspec": {
   "display_name": "Python 3 (ipykernel)",
   "language": "python",
   "name": "python3"
  },
  "language_info": {
   "codemirror_mode": {
    "name": "ipython",
    "version": 3
   },
   "file_extension": ".py",
   "mimetype": "text/x-python",
   "name": "python",
   "nbconvert_exporter": "python",
   "pygments_lexer": "ipython3",
   "version": "3.11.5"
  }
 },
 "nbformat": 4,
 "nbformat_minor": 5
}
