{
 "cells": [
  {
   "cell_type": "markdown",
   "id": "556e65aa",
   "metadata": {},
   "source": [
    "#### INTRODUCCIÓN A PYTHON"
   ]
  },
  {
   "cell_type": "code",
   "execution_count": null,
   "id": "3dc7b91f",
   "metadata": {},
   "outputs": [],
   "source": [
    "# Introducción a la programación en Python\n",
    "\n",
    "# Definición de variables\n",
    "entero = 100\n",
    "flotante = 10.5\n",
    "cadena = \"Hola mundo de nuevo, COMO ESTAN\"\n",
    "\n",
    "# Operaciones básicas\n",
    "suma = entero + 5  # Suma\n",
    "resta = entero - 3  # Resta\n",
    "multiplicacion = entero * 2  # Multiplicación\n",
    "division = entero / 2  # División\n"
   ]
  },
  {
   "cell_type": "code",
   "execution_count": 11,
   "id": "438ca21a",
   "metadata": {},
   "outputs": [
    {
     "name": "stdout",
     "output_type": "stream",
     "text": [
      "Hola mundo de nuevo\n"
     ]
    }
   ],
   "source": [
    "print(cadena)"
   ]
  },
  {
   "cell_type": "code",
   "execution_count": 12,
   "id": "2b8f506f",
   "metadata": {},
   "outputs": [
    {
     "name": "stdout",
     "output_type": "stream",
     "text": [
      "suma = 105\n"
     ]
    }
   ],
   "source": [
    "print('suma =',suma)"
   ]
  },
  {
   "cell_type": "code",
   "execution_count": 13,
   "id": "a450e0cd",
   "metadata": {},
   "outputs": [],
   "source": [
    "mi_lista =[1,2,3,4,'penultimo',20]"
   ]
  },
  {
   "cell_type": "code",
   "execution_count": 14,
   "id": "4fa45b10",
   "metadata": {},
   "outputs": [
    {
     "name": "stdout",
     "output_type": "stream",
     "text": [
      "Número en la lista: 1\n",
      "Número en la lista: 2\n",
      "Número en la lista: 3\n",
      "Número en la lista: 4\n",
      "Número en la lista: penultimo\n",
      "Número en la lista: 20\n"
     ]
    }
   ],
   "source": [
    "# Ciclo for\n",
    "for numero in mi_lista:\n",
    "    print(\"Número en la lista:\", numero)\n"
   ]
  },
  {
   "cell_type": "code",
   "execution_count": 15,
   "id": "7d263bb1",
   "metadata": {},
   "outputs": [],
   "source": [
    "# DEFINICION DE UNA FUNCION EN PYTHON"
   ]
  },
  {
   "cell_type": "code",
   "execution_count": 16,
   "id": "a7623f2f",
   "metadata": {},
   "outputs": [
    {
     "name": "stdout",
     "output_type": "stream",
     "text": [
      "Numeros:\n",
      "10 5\n",
      "Suma: 15\n",
      "Resta: 5\n",
      "Multiplicación: 50\n",
      "División: 2.0\n",
      "Nueva op: 85\n"
     ]
    }
   ],
   "source": [
    "def operaciones_aritmeticas(a, b):\n",
    "    suma = a + b\n",
    "    resta = a - b\n",
    "    multiplicacion = a * b\n",
    "    division = a / b\n",
    "    nueva = a**2-(a+b)\n",
    "\n",
    "    return suma, resta, multiplicacion, division, nueva\n",
    "\n",
    "# Datos numeros\n",
    "num1 = 10 \n",
    "num2 = 5\n",
    "print('Numeros:')\n",
    "print(num1,num2)\n",
    "resultado = operaciones_aritmeticas(num1, num2)\n",
    "print(\"Suma:\", resultado[0])\n",
    "print(\"Resta:\", resultado[1])\n",
    "print(\"Multiplicación:\", resultado[2])\n",
    "print(\"División:\", resultado[3])\n",
    "print(\"Nueva op:\",resultado[4])\n"
   ]
  },
  {
   "cell_type": "markdown",
   "id": "05df0e1a",
   "metadata": {},
   "source": [
    "#### LIBRERIA DATA FRAME"
   ]
  },
  {
   "cell_type": "code",
   "execution_count": 17,
   "id": "c793a9e2",
   "metadata": {},
   "outputs": [
    {
     "name": "stdout",
     "output_type": "stream",
     "text": [
      "DataFrame original:\n",
      "   Nombre  Edad      Ciudad\n",
      "0     Ana    27  Cochabamba\n",
      "1    Luis    34      La Paz\n",
      "2   Marta    29  Santa Cruz\n",
      "3  Carlos    40       Sucre\n"
     ]
    }
   ],
   "source": [
    "# USO LIBRERIA PANDAS ( DATAFRAME)\n",
    "\n",
    "# Importación de la biblioteca pandas\n",
    "import pandas as pd\n",
    "\n",
    "# Creación de un DataFrame\n",
    "datos = {\n",
    "    'Nombre': ['Ana', 'Luis', 'Marta', 'Carlos'],\n",
    "    'Edad': [27, 34, 29, 40],\n",
    "    'Ciudad': ['Cochabamba', 'La Paz', 'Santa Cruz', 'Sucre']\n",
    "}\n",
    "\n",
    "df = pd.DataFrame(datos)  # convertir a tipo dataframe\n",
    "\n",
    "# Mostrar el DataFrame\n",
    "print(\"DataFrame original:\")\n",
    "print(df)\n"
   ]
  },
  {
   "cell_type": "code",
   "execution_count": 18,
   "id": "39c05604",
   "metadata": {},
   "outputs": [
    {
     "name": "stdout",
     "output_type": "stream",
     "text": [
      "Filtrado edad > 30:\n",
      "   Nombre  Edad  Ciudad\n",
      "1    Luis    34  La Paz\n",
      "3  Carlos    40   Sucre\n",
      "\n"
     ]
    }
   ],
   "source": [
    "\n",
    "# Filtrar el DataFrame\n",
    "df_filtrado = df[df['Edad'] > 30]\n",
    "print(\"Filtrado edad > 30:\")\n",
    "print(df_filtrado)\n",
    "print('')\n"
   ]
  },
  {
   "cell_type": "code",
   "execution_count": null,
   "id": "515fc0fe",
   "metadata": {},
   "outputs": [],
   "source": []
  }
 ],
 "metadata": {
  "kernelspec": {
   "display_name": "Python 3",
   "language": "python",
   "name": "python3"
  },
  "language_info": {
   "codemirror_mode": {
    "name": "ipython",
    "version": 3
   },
   "file_extension": ".py",
   "mimetype": "text/x-python",
   "name": "python",
   "nbconvert_exporter": "python",
   "pygments_lexer": "ipython3",
   "version": "3.13.2"
  }
 },
 "nbformat": 4,
 "nbformat_minor": 5
}
